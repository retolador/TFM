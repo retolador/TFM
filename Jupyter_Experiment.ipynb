{
  "nbformat": 4,
  "nbformat_minor": 0,
  "metadata": {
    "colab": {
      "name": "Jupyter Experiment.ipynb",
      "provenance": [],
      "collapsed_sections": [],
      "authorship_tag": "ABX9TyPi3p7nIXFqWjY9twYwchax",
      "include_colab_link": true
    },
    "kernelspec": {
      "name": "python3",
      "display_name": "Python 3"
    }
  },
  "cells": [
    {
      "cell_type": "markdown",
      "metadata": {
        "id": "view-in-github",
        "colab_type": "text"
      },
      "source": [
        "<a href=\"https://colab.research.google.com/github/retolador/TFM/blob/master/Jupyter_Experiment.ipynb\" target=\"_parent\"><img src=\"https://colab.research.google.com/assets/colab-badge.svg\" alt=\"Open In Colab\"/></a>"
      ]
    },
    {
      "cell_type": "markdown",
      "metadata": {
        "id": "YbsYKtVh3nBu"
      },
      "source": [
        "# Introductionn to jupyter notebook\n",
        "\n",
        "Hello, how are you?\n",
        "\n",
        "I'm from **Mallorca**\n",
        "\n",
        "$$ ax² \\ + \\ bx \\ + c = 0$$\n",
        "\n"
      ]
    },
    {
      "cell_type": "code",
      "metadata": {
        "colab": {
          "base_uri": "https://localhost:8080/"
        },
        "id": "w7sDLZFt4QVH",
        "outputId": "8f0f6f77-f460-44da-9e29-ead0d6664979"
      },
      "source": [
        "%time\n",
        "print('Table of squares')\n",
        "for i in range(10):\n",
        "  print(f'{i} times {i} = {i*i}')"
      ],
      "execution_count": null,
      "outputs": [
        {
          "output_type": "stream",
          "text": [
            "CPU times: user 3 µs, sys: 1e+03 ns, total: 4 µs\n",
            "Wall time: 6.91 µs\n",
            "Table of squares\n",
            "0 times 0 = 0\n",
            "1 times 1 = 1\n",
            "2 times 2 = 4\n",
            "3 times 3 = 9\n",
            "4 times 4 = 16\n",
            "5 times 5 = 25\n",
            "6 times 6 = 36\n",
            "7 times 7 = 49\n",
            "8 times 8 = 64\n",
            "9 times 9 = 81\n"
          ],
          "name": "stdout"
        }
      ]
    },
    {
      "cell_type": "markdown",
      "metadata": {
        "id": "i93NuryWRyAp"
      },
      "source": [
        "Task 2"
      ]
    },
    {
      "cell_type": "code",
      "metadata": {
        "id": "jctPXRUlRxDB"
      },
      "source": [
        "e = 2.1718281828\n",
        "answer = 42\n",
        "message = 'Hello World'"
      ],
      "execution_count": null,
      "outputs": []
    },
    {
      "cell_type": "code",
      "metadata": {
        "colab": {
          "base_uri": "https://localhost:8080/",
          "height": 35
        },
        "id": "Yo0XkzK_R3XU",
        "outputId": "7bd2a9a6-673d-4b1f-8def-8d5aa180e9cd"
      },
      "source": [
        "\"e = %(e)s ,   answer = %(answer)s , message = %(message)s\" %{'e':e, 'answer':answer, 'message': message}"
      ],
      "execution_count": null,
      "outputs": [
        {
          "output_type": "execute_result",
          "data": {
            "application/vnd.google.colaboratory.intrinsic+json": {
              "type": "string"
            },
            "text/plain": [
              "'e = 2.1718281828 ,   answer = 42 , message = Hello World'"
            ]
          },
          "metadata": {
            "tags": []
          },
          "execution_count": 11
        }
      ]
    },
    {
      "cell_type": "code",
      "metadata": {
        "colab": {
          "base_uri": "https://localhost:8080/",
          "height": 35
        },
        "id": "CmBj1dIKXU6L",
        "outputId": "8d3f712d-1f8d-4dec-a2d8-b1b78c8e471c"
      },
      "source": [
        "\"e = {}, answer = {}, message = {}\".format(e,answer, message)"
      ],
      "execution_count": null,
      "outputs": [
        {
          "output_type": "execute_result",
          "data": {
            "application/vnd.google.colaboratory.intrinsic+json": {
              "type": "string"
            },
            "text/plain": [
              "'e = 2.1718281828, answer = 42, message = Hello World'"
            ]
          },
          "metadata": {
            "tags": []
          },
          "execution_count": 12
        }
      ]
    },
    {
      "cell_type": "markdown",
      "metadata": {
        "id": "SUy7_ZRMgjg_"
      },
      "source": [
        "Task 3"
      ]
    },
    {
      "cell_type": "code",
      "metadata": {
        "id": "FkMb776Hgl9F"
      },
      "source": [
        "vector_a = [1., 2., 3.]\n",
        "vector_b = [2., 2., 2.]"
      ],
      "execution_count": 13,
      "outputs": []
    },
    {
      "cell_type": "code",
      "metadata": {
        "colab": {
          "base_uri": "https://localhost:8080/"
        },
        "id": "yQMJX32dgyel",
        "outputId": "18d6992e-063a-440f-8f04-4e29fa83cadd"
      },
      "source": [
        "terms_result = list()\n",
        "for i in range(len(vector_a)):\n",
        "    result_index = vector_a[i] * vector_b[i]\n",
        "    terms_result.append(result_index)\n",
        "result = sum(terms_result)\n",
        "result_float = float(result)\n",
        "print(\"final result{: .2f}\".format(result_float))"
      ],
      "execution_count": 20,
      "outputs": [
        {
          "output_type": "stream",
          "text": [
            "final result 12.00\n"
          ],
          "name": "stdout"
        }
      ]
    }
  ]
}